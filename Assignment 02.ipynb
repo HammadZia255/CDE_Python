{
 "cells": [
  {
   "cell_type": "markdown",
   "id": "06e36a77-467c-4ea4-bc7e-0fb556954bdb",
   "metadata": {},
   "source": [
    "# Strings Assignment"
   ]
  },
  {
   "cell_type": "markdown",
   "id": "a70674a2",
   "metadata": {},
   "source": [
    "#### 1 .  Write a program that accepts a string from user. Your program should count and display number of vowels in that string. "
   ]
  },
  {
   "cell_type": "code",
   "execution_count": null,
   "id": "4e83383b-b9eb-4718-9a8d-2edfc4fc2f41",
   "metadata": {},
   "outputs": [],
   "source": [
    "text = input(\"Enter your full name \")\n",
    "count = 0 \n",
    "\n",
    "vowels = \"aeiouAEIOU\"\n",
    "\n",
    "for i in text:\n",
    "    if i in vowels:\n",
    "        count += 1\n",
    "print(f\"Your string have {count} vowels\")\n",
    "\n"
   ]
  },
  {
   "cell_type": "markdown",
   "id": "728aa652-7870-4b09-8631-51825b2ef246",
   "metadata": {},
   "source": [
    "#### 2. Write a program that reads a string from keyboard and display: \n",
    "* The number of uppercase letters in the string \n",
    "* The number of lowercase letters in the string \n",
    "* The number of digits in the string \n",
    "* The number of whitespace characters in the string  "
   ]
  },
  {
   "cell_type": "code",
   "execution_count": null,
   "id": "32556ca2-7790-4807-b3ea-5632f284dac4",
   "metadata": {},
   "outputs": [],
   "source": [
    "st = input(\"Enter anything what you want \")\n",
    "uper = 0\n",
    "lowr = 0\n",
    "dig = 0 \n",
    "space = 0\n",
    "\n",
    "for i in st:\n",
    "    if i.isupper():\n",
    "        uper += 1\n",
    "    elif i.islower():\n",
    "        lowr += 1\n",
    "    elif i.isdigit():\n",
    "        dig += 1\n",
    "    else:\n",
    "        space += 1\n",
    "\n",
    "print(f\"your string have {uper} uppercase \\nyour string have {lowr} lowercase \\nyour string have {dig} digit \\nyour string have {space} whitespace\")\n",
    "\n"
   ]
  },
  {
   "cell_type": "markdown",
   "id": "7b75bce8-18b3-4889-a3e7-19fbd67a61a4",
   "metadata": {},
   "source": [
    "#### 3. Write a Python program that accepts a string from user. Your program should create and display a new string where the first and last characters have been exchanged. \n",
    "##### For example if the user enters the string 'HELLO' then new string would be 'OELLH' "
   ]
  },
  {
   "cell_type": "code",
   "execution_count": null,
   "id": "ab7529af-be80-4457-a433-b0a034a8b59f",
   "metadata": {},
   "outputs": [],
   "source": [
    "text = input(\"Enter hello \")\n",
    "text = text.upper()\n",
    "if len(text) > 1:\n",
    "    new_text = text[-1] + text[1:-1] + text[0]\n",
    "    print(new_text)\n",
    "else:\n",
    "    print(\"text\")\n"
   ]
  },
  {
   "cell_type": "markdown",
   "id": "1f79fbe1-ab73-49d5-b4e3-97cd0dc11dd8",
   "metadata": {},
   "source": [
    "#### 4. Write a Python program that accepts a string from user. Your program should create a new string in reverse of first string and display it. \n",
    "##### For example if the user enters the string 'EXAM' then new string would be 'MAXE'  "
   ]
  },
  {
   "cell_type": "code",
   "execution_count": null,
   "id": "28e33af5-4790-48e1-9718-1b01320a6f46",
   "metadata": {},
   "outputs": [],
   "source": [
    "n = input(\"Enter any name and get reverse \")\n",
    "rev = \"\"\n",
    "for i in range(len(n)-1,-1,-1):\n",
    "    rev = rev + n[i]\n",
    "print(rev)\n"
   ]
  },
  {
   "cell_type": "markdown",
   "id": "a68267c7-727c-48e0-a1f1-4e1a8c510872",
   "metadata": {},
   "source": [
    "#### 5. Write a Python program that accepts a string from user. Your program should create a new string by shifting one position to left. \n",
    "##### For example if the user enters the string 'examination 2021' then new string would be 'xamination 2021e'  "
   ]
  },
  {
   "cell_type": "code",
   "execution_count": null,
   "id": "9dc33db7-211c-44ca-b896-bba77fee9b97",
   "metadata": {},
   "outputs": [],
   "source": [
    "a = input(\"Enter the string \")\n",
    "if len(a) > 1:\n",
    "    new_a = a[1:] + a[0]\n",
    "print(new_a)\n"
   ]
  },
  {
   "cell_type": "markdown",
   "id": "6c01b7af-d9c9-4236-ad7e-aa6b88a5b403",
   "metadata": {},
   "source": [
    "#### 6. Write a program that asks the user to input his name and print its initials. Assuming that the user always types first name, middle name and last name and does not include any unnecessary spaces. \n",
    "##### For example, if the user enters Ajay Kumar Garg the program should display A. K. G.\n",
    "##### Note:Don't use split() method  "
   ]
  },
  {
   "cell_type": "code",
   "execution_count": null,
   "id": "37ed6709-3bf4-4cec-9924-616b95ac980d",
   "metadata": {},
   "outputs": [],
   "source": [
    "name = input(\"Enter your full name (First Middle Last): \")\n",
    "intitals = \"\"\n",
    "\n",
    "intitals = intitals + name[0].upper() + \". \"\n",
    "\n",
    "for i in range(len(name)):\n",
    "    if name[i] == \" \":\n",
    "        intitals += name[i + 1].upper() + \". \"\n",
    "print(\"Initals: \",intitals)\n"
   ]
  },
  {
   "cell_type": "markdown",
   "id": "6c8cf88f-61e7-48d7-b81e-d0cd62dc8b84",
   "metadata": {},
   "source": [
    "#### 7. A palindrome is a string that reads the same backward as forward. For example, the words dad, madam and radar are all palindromes. Write a programs that determines whether the string is a palindrome. \n",
    "##### Note: do not use reverse() method  "
   ]
  },
  {
   "cell_type": "code",
   "execution_count": null,
   "id": "7f138cb8-9647-43df-9adf-7890962139d0",
   "metadata": {},
   "outputs": [],
   "source": [
    "pal = input(\"Check your String is pallindrome or not: \")\n",
    "rev = \"\"\n",
    "for i in range(len(pal)-1,-1,-1):\n",
    "    rev = rev + pal[i]\n",
    "\n",
    "if pal == rev:\n",
    "    print(\"Your name is Pallindrome\")\n",
    "else:\n",
    "    print(\"Not a pallindrome\")\n"
   ]
  },
  {
   "cell_type": "markdown",
   "id": "f2e83626-d5cc-496a-b175-d9e3b72e4092",
   "metadata": {},
   "source": [
    "#### 8. Write a program that display following output: \n",
    "- SHIFT \n",
    "- HIFTS \n",
    "- IFTSH \n",
    "- FTSHI \n",
    "- TSHIF \n",
    "- SHIFT "
   ]
  },
  {
   "cell_type": "code",
   "execution_count": null,
   "id": "26b604a5",
   "metadata": {},
   "outputs": [],
   "source": [
    "a = \"SHIFT\"\n",
    "\n",
    "for i in range(len(a) + 1):\n",
    "    print(a)\n",
    "    a = a[1:] + a[0]\n"
   ]
  },
  {
   "cell_type": "markdown",
   "id": "b40d6eda",
   "metadata": {},
   "source": [
    "### 9. Write a program in python that accepts a string to setup a passwords. Your entered password must meet the following requirements:\n",
    "- The password must be at least eight characters long.\n",
    "- It must contain at least one uppercase letter.\n",
    "- It must contain at least one lowercase letter.\n",
    "- It must contain at least one numeric digit.\n",
    "- Your program should should perform this validation. "
   ]
  },
  {
   "cell_type": "code",
   "execution_count": null,
   "id": "a16f7082-0cb9-4de4-b01c-d47c0d2fa9ee",
   "metadata": {},
   "outputs": [],
   "source": [
    "pas = input(\"Enter a password: \")\n",
    "\n",
    "has_upper = False\n",
    "has_lower = False\n",
    "has_digit = False\n",
    "\n",
    "if len(pas) >= 8:\n",
    "    for ch in pas:\n",
    "        if pas.isupper():\n",
    "            has_upper = True\n",
    "        elif pas.islower():\n",
    "            has_lower = True\n",
    "        elif pas.isdigit():\n",
    "            has_digit = True\n",
    "\n",
    "    if has_upper and has_lower and has_digit:\n",
    "        print(\"Password is Correct\")\n",
    "    else:\n",
    "        print(\"Passowrd is Incorrect atleast one uppercase,one lowercase and one numeric\")\n",
    "else:\n",
    "    print(\"It must be at least 8 characters long and atleast one uppercase,one lowercase and one numeric\")\n"
   ]
  }
 ],
 "metadata": {
  "kernelspec": {
   "display_name": "Python (anaconda)",
   "language": "python",
   "name": "anaconda"
  },
  "language_info": {
   "codemirror_mode": {
    "name": "ipython",
    "version": 3
   },
   "file_extension": ".py",
   "mimetype": "text/x-python",
   "name": "python",
   "nbconvert_exporter": "python",
   "pygments_lexer": "ipython3",
   "version": "3.13.5"
  }
 },
 "nbformat": 4,
 "nbformat_minor": 5
}

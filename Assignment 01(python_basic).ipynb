{
 "cells": [
  {
   "cell_type": "markdown",
   "metadata": {},
   "source": [
    "# Part -1 Python Basics (Variables)"
   ]
  },
  {
   "cell_type": "markdown",
   "metadata": {},
   "source": [
    "1. Print Your Name with your Father name and Date of birth using suitable escape sequence charactor"
   ]
  },
  {
   "cell_type": "code",
   "execution_count": 1,
   "metadata": {},
   "outputs": [
    {
     "name": "stdout",
     "output_type": "stream",
     "text": [
      "Name: Muhammad Hammad Zia\n",
      "Father_Name: Zia-ul-Hassan \n",
      "DOB: 23-05-2003\n"
     ]
    }
   ],
   "source": [
    "print(\"Name: Muhammad Hammad Zia\\nFather_Name: Zia-ul-Hassan \\nDOB: 23-05-2003\")"
   ]
  },
  {
   "cell_type": "markdown",
   "metadata": {},
   "source": [
    "2. Write your small bio using variables and print it using print function"
   ]
  },
  {
   "cell_type": "code",
   "execution_count": 2,
   "metadata": {},
   "outputs": [
    {
     "name": "stdout",
     "output_type": "stream",
     "text": [
      "This is me M.Hammad and i'm a student of third semester and now i am learning Cloud Data Engineering from SMIT.\n"
     ]
    }
   ],
   "source": [
    "bio = (\"This is me M.Hammad and i'm a student of third semester and now i am learning Cloud Data Engineering from SMIT.\")\n",
    "print(bio)"
   ]
  },
  {
   "cell_type": "markdown",
   "metadata": {},
   "source": [
    "3. Write a program in which use all the operators we can use in Python"
   ]
  },
  {
   "cell_type": "code",
   "execution_count": 3,
   "metadata": {},
   "outputs": [
    {
     "name": "stdout",
     "output_type": "stream",
     "text": [
      "23\n",
      "-13\n",
      "90\n",
      "3814697265625\n",
      "0.2777777777777778\n",
      "0\n",
      "7\n",
      "13\n",
      "14\n",
      "4.333333333333333\n",
      "2.0\n",
      "196\n",
      "False\n",
      "False\n",
      "False\n",
      "True\n",
      "True\n",
      "False\n",
      "True\n",
      "True\n",
      "False\n"
     ]
    }
   ],
   "source": [
    "a = 5\n",
    "b = 18\n",
    "# Arhimatic Operators\n",
    "print(a+b)\n",
    "print(a-b)\n",
    "print(a*b)\n",
    "print(a**b)\n",
    "print(a/b)\n",
    "print(a//b)\n",
    "# Compound Assignment Operatoes\n",
    "a += 2\n",
    "print(a)\n",
    "b -= 5\n",
    "print(b)\n",
    "a *= 2\n",
    "print(a)\n",
    "b /= 3\n",
    "print(b)\n",
    "b//= 2\n",
    "print(b)\n",
    "a**=2\n",
    "print(a)\n",
    "# Comparison Operators \n",
    "c = 25\n",
    "d = 25\n",
    "print(a==b)\n",
    "print(c>d)\n",
    "print(d>c)\n",
    "print(c>=d)\n",
    "print(c<=d)\n",
    "print(c!=d)\n",
    "# Logical Operators\n",
    "x = 15\n",
    "y = 20\n",
    "print(x<y and y>=x and x!=y)\n",
    "print(x>=y or x!=y)\n",
    "print(not x<y)\n",
    "\n",
    " \n"
   ]
  },
  {
   "cell_type": "markdown",
   "metadata": {},
   "source": [
    "4. Completes the following steps of small task:\n",
    "    - Mention Marks of English , Islamiat and Maths out of 100 in 3 different variables\n",
    "    - Mention Variable of Total Marks and assign 300 to it\n",
    "    - Calculate Percentage"
   ]
  },
  {
   "cell_type": "code",
   "execution_count": 4,
   "metadata": {},
   "outputs": [
    {
     "name": "stdout",
     "output_type": "stream",
     "text": [
      "65.0\n"
     ]
    }
   ],
   "source": [
    "english = 64\n",
    "islamiat = 75\n",
    "math = 56\n",
    "total_marks = 300\n",
    "percentage = (english+math+islamiat) * 100 / total_marks\n",
    "print(percentage)"
   ]
  },
  {
   "cell_type": "markdown",
   "metadata": {},
   "source": [
    "# Part -2 Python Basics (Conditional Statements)"
   ]
  },
  {
   "cell_type": "markdown",
   "metadata": {},
   "source": [
    "1) A company decided to give bonus of 5% to employee if his/her year of service is more than 5 years.\n",
    "Ask user for their salary and year of service and print the net bonus amount."
   ]
  },
  {
   "cell_type": "code",
   "execution_count": 5,
   "metadata": {},
   "outputs": [
    {
     "name": "stdin",
     "output_type": "stream",
     "text": [
      "Enter your Salary  65000\n",
      "Enter your Service duration in year  5\n"
     ]
    },
    {
     "name": "stdout",
     "output_type": "stream",
     "text": [
      "You are not eligible for Bonus\n"
     ]
    }
   ],
   "source": [
    "salary = int(input(\"Enter your Salary \"))\n",
    "year = int(input(\"Enter your Service duration in year \"))\n",
    "if year > 5:\n",
    "    bonus = salary * 0.05 \n",
    "    new_Salary = salary + bonus\n",
    "    print(f\"You are eligible for bonus {bonus} New Salary is  {new_Salary}\")\n",
    "else:\n",
    "    print(\"You are not eligible for Bonus\")"
   ]
  },
  {
   "cell_type": "markdown",
   "metadata": {},
   "source": [
    "\n",
    "2) Write a program to check whether a person is eligible for voting or not. (accept age from user) if age is greater than 17 eligible otherwise not eligible"
   ]
  },
  {
   "cell_type": "code",
   "execution_count": 6,
   "metadata": {},
   "outputs": [
    {
     "name": "stdin",
     "output_type": "stream",
     "text": [
      "Enter your age  45\n"
     ]
    },
    {
     "name": "stdout",
     "output_type": "stream",
     "text": [
      "You are Eligible for Voting\n"
     ]
    }
   ],
   "source": [
    "age = int(input(\"Enter your age \"))\n",
    "\n",
    "if age > 17:\n",
    "    print(\"You are Eligible for Voting\")\n",
    "else:\n",
    "    print(\"You are not Eligible\")\n"
   ]
  },
  {
   "cell_type": "markdown",
   "metadata": {},
   "source": [
    "\n",
    "3) Write a program to check whether a number entered by user is even or odd."
   ]
  },
  {
   "cell_type": "code",
   "execution_count": 7,
   "metadata": {},
   "outputs": [
    {
     "name": "stdin",
     "output_type": "stream",
     "text": [
      "Enter a Number  25\n"
     ]
    },
    {
     "name": "stdout",
     "output_type": "stream",
     "text": [
      "25  It is Odd Number\n"
     ]
    }
   ],
   "source": [
    "num = int(input(\"Enter a Number \"))\n",
    "\n",
    "if num % 2 == 0:\n",
    "    print(num,\" It is Even Number\")\n",
    "else:\n",
    "    print(num,\" It is Odd Number\")"
   ]
  },
  {
   "cell_type": "markdown",
   "metadata": {},
   "source": [
    "4) Write a program to check whether a number is divisible by 7 or not. Show Answer"
   ]
  },
  {
   "cell_type": "code",
   "execution_count": 8,
   "metadata": {},
   "outputs": [
    {
     "name": "stdin",
     "output_type": "stream",
     "text": [
      "Enter a Number  57\n"
     ]
    },
    {
     "name": "stdout",
     "output_type": "stream",
     "text": [
      "57  is not dividible by 7\n"
     ]
    }
   ],
   "source": [
    "num = int(input(\"Enter a Number \"))\n",
    "\n",
    "if num % 7 == 0:\n",
    "    print(num,\" is divisible by 7\")\n",
    "else:\n",
    "    print(num,\" is not dividible by 7\")"
   ]
  },
  {
   "cell_type": "markdown",
   "metadata": {},
   "source": [
    "5) Write a program to display \n",
    "\"Hello\" if a number entered by user is a multiple of five , otherwise print \"Bye\"."
   ]
  },
  {
   "cell_type": "code",
   "execution_count": 9,
   "metadata": {},
   "outputs": [
    {
     "name": "stdin",
     "output_type": "stream",
     "text": [
      "Enter a Number  2850\n"
     ]
    },
    {
     "name": "stdout",
     "output_type": "stream",
     "text": [
      "Hello\n"
     ]
    }
   ],
   "source": [
    "num = int(input(\"Enter a Number \"))\n",
    "\n",
    "if num % 5 == 0:\n",
    "    print('Hello') \n",
    "else:\n",
    "    print(\"Bye\")"
   ]
  },
  {
   "cell_type": "markdown",
   "metadata": {},
   "source": [
    "7) Write a program to display the last digit of a number.\n"
   ]
  },
  {
   "cell_type": "code",
   "execution_count": 10,
   "metadata": {},
   "outputs": [
    {
     "name": "stdin",
     "output_type": "stream",
     "text": [
      "Enter your name  hammad\n"
     ]
    },
    {
     "name": "stdout",
     "output_type": "stream",
     "text": [
      "d\n"
     ]
    }
   ],
   "source": [
    "name = input(\"Enter your name \")\n",
    "print(name[-1])"
   ]
  },
  {
   "cell_type": "markdown",
   "metadata": {},
   "source": [
    "9) Take values of length and breadth of a rectangle from user and print if it is square or rectangle."
   ]
  },
  {
   "cell_type": "code",
   "execution_count": 11,
   "metadata": {},
   "outputs": [
    {
     "name": "stdin",
     "output_type": "stream",
     "text": [
      "Enter a Lenght  68\n",
      "Enter a Breadth  69\n"
     ]
    },
    {
     "name": "stdout",
     "output_type": "stream",
     "text": [
      "It is Rectangle\n"
     ]
    }
   ],
   "source": [
    "length = int(input(\"Enter a Lenght \"))\n",
    "breadth = int(input(\"Enter a Breadth \"))\n",
    "if length == breadth:\n",
    "    print(\"It is Square\")\n",
    "else:\n",
    "    print(\"It is Rectangle\")"
   ]
  },
  {
   "cell_type": "markdown",
   "metadata": {},
   "source": [
    "10) Take two int values from user and print greatest among them."
   ]
  },
  {
   "cell_type": "code",
   "execution_count": 12,
   "metadata": {},
   "outputs": [
    {
     "name": "stdin",
     "output_type": "stream",
     "text": [
      "Enter Any Number  58\n",
      "Enter Any Number  63\n"
     ]
    },
    {
     "name": "stdout",
     "output_type": "stream",
     "text": [
      "b = 63 is greter than a = 58\n"
     ]
    }
   ],
   "source": [
    "a = int(input(\"Enter Any Number \"))\n",
    "b = int(input(\"Enter Any Number \"))\n",
    "\n",
    "if a > b:\n",
    "    print(f\"a = {a} is greter than b = {b}\")\n",
    "else:\n",
    "    print(f\"b = {b} is greter than a = {a}\")"
   ]
  },
  {
   "cell_type": "markdown",
   "metadata": {},
   "source": [
    "11) A shop will give discount of 10% if the cost of purchased quantity is more than 1000.\n",
    "Ask user for quantity\n",
    "Suppose, one unit will cost 100.\n",
    "Judge and print total cost for user."
   ]
  },
  {
   "cell_type": "code",
   "execution_count": 13,
   "metadata": {},
   "outputs": [
    {
     "name": "stdin",
     "output_type": "stream",
     "text": [
      "Enter your purchased Amount  6500\n"
     ]
    },
    {
     "name": "stdout",
     "output_type": "stream",
     "text": [
      "You got 10% discount \n",
      " Your new amount is 6435.0\n"
     ]
    }
   ],
   "source": [
    "amount =  int(input(\"Enter your purchased Amount \"))\n",
    "if amount > 1000:\n",
    "    discount = amount * 0.01\n",
    "    cust_amt = amount - discount\n",
    "    print(f\"You got 10% discount \\n Your new amount is {cust_amt}\")\n",
    "else:\n",
    "    print(\"You are not Eligible for Discount\")"
   ]
  },
  {
   "cell_type": "markdown",
   "metadata": {},
   "source": [
    "12) A school has following rules for grading system:\n",
    "\n",
    "a. Below 25 - F\n",
    "\n",
    "b. 25 to 45 - E\n",
    "\n",
    "c. 45 to 50 - D\n",
    "\n",
    "d. 50 to 60 - C\n",
    "\n",
    "e. 60 to 80 - B\n",
    "\n",
    "f. Above 80 - A\n",
    "\n",
    "Ask user to enter marks and print the corresponding grade."
   ]
  },
  {
   "cell_type": "code",
   "execution_count": 14,
   "metadata": {},
   "outputs": [
    {
     "name": "stdin",
     "output_type": "stream",
     "text": [
      "Enter your MArks  65\n"
     ]
    },
    {
     "name": "stdout",
     "output_type": "stream",
     "text": [
      "B Garde\n"
     ]
    }
   ],
   "source": [
    "marks = int(input(\"Enter your MArks \"))\n",
    "if marks > 80:\n",
    "    print(\"A Grade\")\n",
    "elif marks == 80 or marks > 60:\n",
    "    print(\"B Garde\")\n",
    "elif marks == 60 or marks > 50:\n",
    "    print(\"C Garde\")\n",
    "elif marks == 50 or marks > 45:\n",
    "    print(\"D Garde\")\n",
    "elif marks == 45 or marks > 25:\n",
    "    print(\"E Garde\")\n",
    "else:\n",
    "    print(\"Fail\")\n"
   ]
  },
  {
   "cell_type": "markdown",
   "metadata": {},
   "source": [
    "14)A student will not be allowed to sit in exam if his/her attendence is less than 75%.\n",
    "\n",
    "Take following input from user\n",
    "\n",
    "- Number of classes held\n",
    "\n",
    "- Number of classes attended.\n",
    "\n",
    "And print\n",
    "\n",
    "- percentage of class attended\n",
    "\n",
    "- Is student is allowed to sit in exam or not.\n"
   ]
  },
  {
   "cell_type": "code",
   "execution_count": 15,
   "metadata": {},
   "outputs": [
    {
     "name": "stdin",
     "output_type": "stream",
     "text": [
      "Enter No of Classes Held  6\n",
      "Enter No of Classes Attended  5\n"
     ]
    },
    {
     "name": "stdout",
     "output_type": "stream",
     "text": [
      "Attendance Percentage 83%\n",
      "You are Eligible for sit Exams \n",
      "Your attendance is 83\n"
     ]
    }
   ],
   "source": [
    "no_cls_held = int(input(\"Enter No of Classes Held \"))\n",
    "no_cls_attend = int(input(\"Enter No of Classes Attended \"))\n",
    "attendance = round((no_cls_attend / no_cls_held) *100)\n",
    "print(f\"Attendance Percentage {attendance}%\")\n",
    "if attendance >= 75:\n",
    "    print(f\"You are Eligible for sit Exams \\nYour attendance is {attendance}\")\n",
    "else:\n",
    "    print(\"You are not Eligble for sit exams because your attendance is less than 75% \")"
   ]
  },
  {
   "cell_type": "markdown",
   "metadata": {},
   "source": [
    "15) Modify the above question to allow student to sit if he/she has medical cause. Ask user if he/she has medical cause or not ( 'Y' or 'N' ) and print accordingly."
   ]
  },
  {
   "cell_type": "code",
   "execution_count": 16,
   "metadata": {},
   "outputs": [
    {
     "name": "stdin",
     "output_type": "stream",
     "text": [
      "do you have any medical cause give ans in 'yes'or 'no'  no\n"
     ]
    },
    {
     "name": "stdout",
     "output_type": "stream",
     "text": [
      "You are allow o sit in Exam\n"
     ]
    }
   ],
   "source": [
    "medical_cause = input(\"do you have any medical cause give ans in 'yes'or 'no' \")\n",
    "if attendance >= 75:\n",
    "    print(\"You are allow o sit in Exam\")\n",
    "elif medical_cause.lower() == \"yes\":\n",
    "    print(\"You are allow to sit in Exam due to medical cause\")\n",
    "else:\n",
    "    print(\"You cannot sit in exam\")"
   ]
  },
  {
   "cell_type": "markdown",
   "metadata": {},
   "source": [
    "16) Write a program to check if a year is leap year or not.\n",
    "\n",
    "If a year is divisible by 4 then it is leap year but if the year is century year like 2000, 1900, 2100 then it must be divisible by 400."
   ]
  },
  {
   "cell_type": "code",
   "execution_count": 17,
   "metadata": {},
   "outputs": [
    {
     "name": "stdin",
     "output_type": "stream",
     "text": [
      "Enter a year:  2005\n"
     ]
    },
    {
     "name": "stdout",
     "output_type": "stream",
     "text": [
      "2005 is not a leap year\n"
     ]
    }
   ],
   "source": [
    "leap_year = int(input(\"Enter a year: \"))\n",
    "if leap_year % 400 == 0 or leap_year % 4  == 0 and leap_year % 100 != 0:\n",
    "    print(f\"{leap_year} is a leap year\")\n",
    "else:\n",
    "    print(f\"{leap_year} is not a leap year\")"
   ]
  },
  {
   "cell_type": "markdown",
   "metadata": {},
   "source": [
    "17) Ask user to enter age, gender ( M or F ), marital status ( Y or N ) and then using following rules print their place of service.\n",
    "\n",
    "if employee is female, then she will work only in urban areas.\n",
    "\n",
    "if employee is a male and age is in between 20 to 40 then he may work in anywhere\n",
    "\n",
    "if employee is male and age is in between 40 t0 60 then he will work in urban areas only.\n",
    "\n",
    "And any other input of age should print \"ERROR\""
   ]
  },
  {
   "cell_type": "code",
   "execution_count": 19,
   "metadata": {},
   "outputs": [
    {
     "name": "stdin",
     "output_type": "stream",
     "text": [
      "Enter your Gender(M/F):  m\n",
      "Enter your age:  52\n",
      "Enter your marital status(Y/N):  n\n"
     ]
    },
    {
     "name": "stdout",
     "output_type": "stream",
     "text": [
      "He will work urban areas only\n"
     ]
    }
   ],
   "source": [
    "gender = input(\"Enter your Gender(M/F): \")\n",
    "Age = int(input(\"Enter your age: \"))\n",
    "marital_status = input(\"Enter your marital status(Y/N): \")\n",
    "if gender.upper() == \"F\":\n",
    "    print(\"She will work only in urban areas\")\n",
    "elif gender.upper() == \"M\" and Age >= 20 and Age <= 40:\n",
    "    print(\"He may work in anywhere\")\n",
    "elif gender.upper() == \"M\" and Age > 40 and Age <= 60:\n",
    "    print(\"He will work urban areas only\")\n",
    "else:\n",
    "    print(\"Error\")"
   ]
  },
  {
   "cell_type": "markdown",
   "metadata": {},
   "source": [
    "6) Write a program to calculate the electricity bill (accept number of unit from user) according to the following criteria :\n",
    "     Unit                                                     Price  \n",
    "uptp 100 units                                             no charge\n",
    "Next 200 units                                              Rs 5 per unit\n",
    "After 200 units                                             Rs 10 per unit\n",
    "(For example if input unit is 350 than total bill amount is Rs.3500\n",
    "(For example if input unit is 97 than total bill amount is Rs.0\n",
    "(For example if input unit is 150 than total bill amount is Rs.750"
   ]
  },
  {
   "cell_type": "markdown",
   "metadata": {},
   "source": [
    "13) Take input of age of 3 people by user and determine oldest and youngest among them."
   ]
  },
  {
   "cell_type": "code",
   "execution_count": 21,
   "metadata": {},
   "outputs": [
    {
     "name": "stdin",
     "output_type": "stream",
     "text": [
      "Enter Your K.E Bill unit:  250\n"
     ]
    },
    {
     "name": "stdout",
     "output_type": "stream",
     "text": [
      "Your K.E bill Amount is 2500\n"
     ]
    }
   ],
   "source": [
    "unit = int(input(\"Enter Your K.E Bill unit: \"))\n",
    "if unit <= 100:\n",
    "    print(\"Your K.E bill Amount is 000\")\n",
    "elif unit > 100 and unit <= 200:\n",
    "    unit_price = unit * 5\n",
    "    print(f\"Your K.E bill Amount is {unit_price}\")\n",
    "elif unit > 200:\n",
    "    units_price = unit * 10\n",
    "    print(f\"Your K.E bill Amount is {units_price}\")\n",
    "else:\n",
    "    print(\"error\")"
   ]
  }
 ],
 "metadata": {
  "kernelspec": {
   "display_name": "Python [conda env:base] *",
   "language": "python",
   "name": "conda-base-py"
  },
  "language_info": {
   "codemirror_mode": {
    "name": "ipython",
    "version": 3
   },
   "file_extension": ".py",
   "mimetype": "text/x-python",
   "name": "python",
   "nbconvert_exporter": "python",
   "pygments_lexer": "ipython3",
   "version": "3.13.5"
  }
 },
 "nbformat": 4,
 "nbformat_minor": 4
}
